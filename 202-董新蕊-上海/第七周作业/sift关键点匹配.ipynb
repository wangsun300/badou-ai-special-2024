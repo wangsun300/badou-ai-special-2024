{
 "cells": [
  {
   "cell_type": "code",
   "execution_count": 18,
   "id": "c9a58616",
   "metadata": {},
   "outputs": [],
   "source": [
    "import cv2"
   ]
  },
  {
   "cell_type": "code",
   "execution_count": 19,
   "id": "cf704b7f",
   "metadata": {},
   "outputs": [],
   "source": [
    "#读取图片\n",
    "img1 = cv2.imread('iphone1.png')\n",
    "img2 = cv2.imread('iphone2.png')\n",
    "#图片灰度化\n",
    "img1_gray = cv2.cvtColor(img1,cv2.COLOR_BGR2GRAY)\n",
    "img2_gray = cv2.cvtColor(img2,cv2.COLOR_BGR2GRAY)\n"
   ]
  },
  {
   "cell_type": "code",
   "execution_count": 20,
   "id": "602622df",
   "metadata": {},
   "outputs": [],
   "source": [
    "sift = cv2.SIFT_create()\n",
    "keypoints1, descriptor1 = sift.detectAndCompute(img1_gray, None)\n",
    "keypoints2, descriptor2 = sift.detectAndCompute(img2_gray, None)\n",
    "\n",
    "bf = cv2.BFMatcher()\n",
    "matches = bf.knnMatch(descriptor1, descriptor2, k=2)\n",
    "\n",
    "good = []\n",
    "for i,j in matches:\n",
    "    if i.distance < 0.75*j.distance:\n",
    "        good.append([i])\n",
    "        \n",
    "img3 = cv2.drawMatchesKnn(img1,keypoints1,img2,keypoints1,good,None,flags=2)    \n",
    "\n",
    "cv2.imshow('matched images', img3)\n",
    "cv2.waitKey(0)\n",
    "cv2.destroyAllWindows()"
   ]
  }
 ],
 "metadata": {
  "kernelspec": {
   "display_name": "Python 3 (ipykernel)",
   "language": "python",
   "name": "python3"
  },
  "language_info": {
   "codemirror_mode": {
    "name": "ipython",
    "version": 3
   },
   "file_extension": ".py",
   "mimetype": "text/x-python",
   "name": "python",
   "nbconvert_exporter": "python",
   "pygments_lexer": "ipython3",
   "version": "3.7.16"
  }
 },
 "nbformat": 4,
 "nbformat_minor": 5
}
