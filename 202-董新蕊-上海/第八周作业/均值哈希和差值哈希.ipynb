{
 "cells": [
  {
   "cell_type": "code",
   "execution_count": 12,
   "id": "c3c206a8",
   "metadata": {},
   "outputs": [],
   "source": [
    "import cv2\n",
    "import random\n",
    "import numpy as np"
   ]
  },
  {
   "cell_type": "code",
   "execution_count": 24,
   "id": "ed24de5e",
   "metadata": {},
   "outputs": [
    {
     "name": "stdout",
     "output_type": "stream",
     "text": [
      "1011111010011110100111011010100110101011101000110000111000101100 1011111010011110100111011010100110101011101000110000111000101100 0\n",
      "1010100110001101101000101010010001000110111011001010010110000011 1001100110001101101000101010010001000110111011001010010110000011 2\n"
     ]
    }
   ],
   "source": [
    "def meanhash(img):\n",
    "    #图像尺寸缩小到8X8以及灰度化\n",
    "    img = cv2.resize(img,(8,8),interpolation=cv2.INTER_CUBIC)\n",
    "    img = cv2.cvtColor(img,cv2.COLOR_BGR2GRAY)\n",
    "    #初始化图像像素和，哈希值\n",
    "    sum = 0\n",
    "    mean_hash = ''\n",
    "    for i in range(8):\n",
    "        for j in range(8):\n",
    "            sum = sum + img[i,j]      \n",
    "    mean =sum/64\n",
    "    for i in range(8):\n",
    "        for j in range(8):\n",
    "            if img[i,j]>mean:\n",
    "                mean_hash = mean_hash +'1'\n",
    "            else:\n",
    "                mean_hash = mean_hash +'0'\n",
    "    return mean_hash\n",
    "\n",
    "def difhash(img):\n",
    "    img=cv2.resize(img,(9,8),interpolation=cv2.INTER_CUBIC)\n",
    "    img = cv2.cvtColor(img,cv2.COLOR_BGR2GRAY)\n",
    "    sum = 0\n",
    "    dif_hash = ''\n",
    "    for i in range(8):\n",
    "        for j in range(8):\n",
    "            if img[i,j]<img[i,j+1]:\n",
    "                dif_hash = dif_hash+'0'\n",
    "            else:\n",
    "                dif_hash = dif_hash+'1'\n",
    "    return dif_hash\n",
    "\n",
    "def compare_hash(hash1,hash2):\n",
    "    n = 0\n",
    "    if len(hash1)!= len(hash2):\n",
    "        return -1\n",
    "    for i in range(len(hash1)):\n",
    "        if hash1[i]!=hash2[i]:\n",
    "            n = n+1\n",
    "    return n\n",
    "\n",
    "\n",
    "#对图像加入高斯噪声生成新图片\n",
    "def Gaussian_img(img, percentage, mean, sigma ):\n",
    "    Gaussian_img = np.copy(img)\n",
    "    height, width= Gaussian_img.shape[:2]\n",
    "    num = int(percentage*height*width)\n",
    "    for i in range(num):\n",
    "\n",
    "        random_x = random.randint(0, height - 1)\n",
    "        random_y = random.randint(0, width - 1)\n",
    "        #Pout = pin + random.gauss 通过sigma和mean来生成符合高斯分布的函数\n",
    "        for c in range(Gaussian_img.shape[2]):\n",
    "            Gaussian_img[random_x,random_y,c] = Gaussian_img[random_x,random_y, c] + random.gauss(mean,sigma)\n",
    "            if Gaussian_img[random_x,random_y,c] < 0:\n",
    "                Gaussian_img[random_x, random_y,c] = 0\n",
    "            elif Gaussian_img[random_x,random_y,c] > 255:\n",
    "                Gaussian_img[random_x, random_y,c] = 255    \n",
    "                    \n",
    "    return Gaussian_img\n",
    "\n",
    "img1 = cv2.imread(\"lenna.png\")\n",
    "img2 = Gaussian_img(img1, 0.05, 5, 15)\n",
    "meanhash1 = meanhash(img1)\n",
    "meanhash2 = meanhash(img2)\n",
    "compare_meanhash1 = compare_hash(meanhash1,meanhash2)\n",
    "print(meanhash1,meanhash2,compare_meanhash1)\n",
    "\n",
    "difhash1 = difhash(img1)\n",
    "difhash2 = difhash(img2)\n",
    "compare_difhash2 = compare_hash(difhash1,difhash2)\n",
    "\n",
    "print(difhash1,difhash2,compare_difhash2)\n",
    "                "
   ]
  },
  {
   "cell_type": "code",
   "execution_count": null,
   "id": "3c51fd3a",
   "metadata": {},
   "outputs": [],
   "source": []
  }
 ],
 "metadata": {
  "kernelspec": {
   "display_name": "Python 3 (ipykernel)",
   "language": "python",
   "name": "python3"
  },
  "language_info": {
   "codemirror_mode": {
    "name": "ipython",
    "version": 3
   },
   "file_extension": ".py",
   "mimetype": "text/x-python",
   "name": "python",
   "nbconvert_exporter": "python",
   "pygments_lexer": "ipython3",
   "version": "3.7.16"
  }
 },
 "nbformat": 4,
 "nbformat_minor": 5
}
