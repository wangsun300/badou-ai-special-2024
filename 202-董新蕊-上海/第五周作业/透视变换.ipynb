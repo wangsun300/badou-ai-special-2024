{
 "cells": [
  {
   "cell_type": "code",
   "execution_count": 5,
   "id": "4f7b3847",
   "metadata": {},
   "outputs": [
    {
     "name": "stdout",
     "output_type": "stream",
     "text": [
      "透视变换矩阵:\n",
      " [[ 8.92263779e-01  3.76733596e-01 -2.41585375e+02]\n",
      " [-4.08140258e-01  9.44205073e-01 -5.80899328e+01]\n",
      " [-8.53836442e-05  5.16464182e-05  1.00000000e+00]]\n"
     ]
    },
    {
     "data": {
      "text/plain": [
       "-1"
      ]
     },
     "execution_count": 5,
     "metadata": {},
     "output_type": "execute_result"
    }
   ],
   "source": [
    "import cv2\n",
    "import numpy as np\n",
    "\n",
    "img = cv2.imread(\"photo1.jpg\")\n",
    "result = img.copy()\n",
    "\n",
    "src = np.float32([[207, 151], [517, 285], [17, 601], [343, 731]])\n",
    "dst = np.float32([[0, 0], [337, 0], [0, 488], [337, 488]])\n",
    "\n",
    "m = cv2.getPerspectiveTransform(src, dst) #透视变换矩阵\n",
    "print('透视变换矩阵:\\n', m)\n",
    "\n",
    "result = cv2.warpPerspective(result, m, (377, 488)) #输入图像，透视变换矩阵和预估尺寸\n",
    "\n",
    "cv2.imshow('original image', img)\n",
    "cv2.imshow('new image', result)\n",
    "\n",
    "cv2.waitKey(0)\n"
   ]
  },
  {
   "cell_type": "code",
   "execution_count": null,
   "id": "f4e8052a",
   "metadata": {},
   "outputs": [],
   "source": []
  }
 ],
 "metadata": {
  "kernelspec": {
   "display_name": "Python 3 (ipykernel)",
   "language": "python",
   "name": "python3"
  },
  "language_info": {
   "codemirror_mode": {
    "name": "ipython",
    "version": 3
   },
   "file_extension": ".py",
   "mimetype": "text/x-python",
   "name": "python",
   "nbconvert_exporter": "python",
   "pygments_lexer": "ipython3",
   "version": "3.7.16"
  }
 },
 "nbformat": 4,
 "nbformat_minor": 5
}
