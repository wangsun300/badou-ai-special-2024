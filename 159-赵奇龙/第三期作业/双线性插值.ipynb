{
 "cells": [
  {
   "cell_type": "code",
   "execution_count": 1,
   "id": "874e540e",
   "metadata": {},
   "outputs": [],
   "source": [
    "import numpy as np\n",
    "import cv2 "
   ]
  },
  {
   "cell_type": "code",
   "execution_count": 2,
   "id": "69f0f617",
   "metadata": {},
   "outputs": [],
   "source": [
    "def bilinear_interpolation(dst_w,dst_h,img,):\n",
    "    src_h , src_w , channel = img.shape\n",
    "    print('src_h = %d,src_w = %d'%(src_h,src_w))\n",
    "    print('dst_h = %d,src_w = %d'%(dst_h,dst_w))\n",
    "    if dst_h == src_h and dst_w == src_w:\n",
    "        return img  #注意,试验不写img.copy()是否可用\n",
    "#         return img.copy()\n",
    "#     else:\n",
    "    dst_img = np.zeros((dst_h,dst_w,3),dtype=np.uint8)\n",
    "    sx , sy =float(src_w)/dst_w,float(src_h)/dst_h\n",
    "    for i in range(channel):\n",
    "        for dst_y in range(dst_h):\n",
    "            for dst_x in range(dst_w):\n",
    "                #在中心重合的原则下，改变坐标为源图像坐标系下的坐标\n",
    "                src_x = (dst_x+0.5)*sx-0.5\n",
    "                src_y = (dst_y+0.5)*sy-0.5\n",
    "                \n",
    "                #确定相邻的坐标\n",
    "                src_x1 = int(src_x)\n",
    "                src_x2 = min(src_x1 + 1,src_w - 1)\n",
    "                src_y1 = int(src_y)\n",
    "                src_y2 = min(src_y1 + 1,src_h - 1)\n",
    "                \n",
    "                #计算插值\n",
    "                temp1 = (src_x2 - src_x) * img[src_y1,src_x1,i]+(src_x - src_x1) * img[src_y1,src_x2,i]\n",
    "                temp2 = (src_x2 - src_x) * img[src_y2,src_x1,i]+(src_x - src_x1) * img[src_y2,src_x2,i]\n",
    "                dst_img[dst_y,dst_x,i] = int((src_y2 - src_y) * temp1 + (src_y - src_y1) * temp2)\n",
    "                \n",
    "    return dst_img\n",
    "                \n",
    "                \n",
    "    \n"
   ]
  },
  {
   "cell_type": "code",
   "execution_count": 3,
   "id": "395ec598",
   "metadata": {},
   "outputs": [
    {
     "name": "stdout",
     "output_type": "stream",
     "text": [
      "<class 'numpy.ndarray'>\n",
      "src_h = 512,src_w = 512\n",
      "dst_h = 800,src_w = 800\n"
     ]
    }
   ],
   "source": [
    "if __name__ == '__main__':\n",
    "    img = cv2.imread('lenna.png')\n",
    "    cv2.imshow('src',img)\n",
    "    print(type(img))\n",
    "    dst = bilinear_interpolation(800,800,img)\n",
    "    cv2.imshow('dst',dst)\n",
    "    cv2.waitKey(0)"
   ]
  },
  {
   "cell_type": "code",
   "execution_count": null,
   "id": "1a8ce332",
   "metadata": {},
   "outputs": [],
   "source": []
  }
 ],
 "metadata": {
  "kernelspec": {
   "display_name": "badou",
   "language": "python",
   "name": "badou"
  },
  "language_info": {
   "codemirror_mode": {
    "name": "ipython",
    "version": 3
   },
   "file_extension": ".py",
   "mimetype": "text/x-python",
   "name": "python",
   "nbconvert_exporter": "python",
   "pygments_lexer": "ipython3",
   "version": "3.7.1"
  }
 },
 "nbformat": 4,
 "nbformat_minor": 5
}
