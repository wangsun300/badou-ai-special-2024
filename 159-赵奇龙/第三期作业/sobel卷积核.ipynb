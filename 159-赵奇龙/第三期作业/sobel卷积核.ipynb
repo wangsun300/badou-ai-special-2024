{
 "cells": [
  {
   "cell_type": "code",
   "execution_count": 24,
   "id": "415edb14",
   "metadata": {},
   "outputs": [],
   "source": [
    "import cv2\n",
    "import numpy as np"
   ]
  },
  {
   "cell_type": "code",
   "execution_count": 25,
   "id": "6098610c",
   "metadata": {},
   "outputs": [],
   "source": [
    "img = cv2.imread(\"lenna.png\",0)\n",
    "#滤波\n",
    "x = cv2.Sobel(img, cv2.CV_16S, 1, 0)\n",
    "y = cv2.Sobel(img, cv2.CV_16S, 0, 1)\n",
    "# print(x)\n",
    "#转换数据为uint8格式\n",
    "absX = cv2.convertScaleAbs(x)\n",
    "absY = cv2.convertScaleAbs(y)\n",
    "# print(absX)\n",
    "#融合图像\n",
    "dst = cv2.addWeighted(absX, 0.5, absY, 0.5, 0)\n",
    "#显示图像\n",
    "cv2.imshow(\"absX\",absX)\n",
    "cv2.imshow(\"absY\",absY)\n",
    "\n",
    "cv2.imshow(\"结果\",dst)\n",
    "\n",
    "cv2.waitKey(0)\n",
    "cv2.destroyAllWindows()"
   ]
  },
  {
   "cell_type": "code",
   "execution_count": null,
   "id": "2ab26da2",
   "metadata": {},
   "outputs": [],
   "source": []
  }
 ],
 "metadata": {
  "kernelspec": {
   "display_name": "badou",
   "language": "python",
   "name": "badou"
  },
  "language_info": {
   "codemirror_mode": {
    "name": "ipython",
    "version": 3
   },
   "file_extension": ".py",
   "mimetype": "text/x-python",
   "name": "python",
   "nbconvert_exporter": "python",
   "pygments_lexer": "ipython3",
   "version": "3.7.1"
  }
 },
 "nbformat": 4,
 "nbformat_minor": 5
}
