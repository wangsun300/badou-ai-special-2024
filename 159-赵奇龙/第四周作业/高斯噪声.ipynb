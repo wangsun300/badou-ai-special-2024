{
 "cells": [
  {
   "cell_type": "code",
   "execution_count": 1,
   "id": "69ba5dfa",
   "metadata": {},
   "outputs": [],
   "source": [
    "import numpy as np\n",
    "import cv2\n",
    "from numpy import shape\n",
    "import random"
   ]
  },
  {
   "cell_type": "code",
   "execution_count": null,
   "id": "8d0ec845",
   "metadata": {},
   "outputs": [],
   "source": [
    "def gaussianNoise(src,means,sigma,percetage):\n",
    "    noiseImg = src\n",
    "    noiseNum = int(percetage * src.shape[1] * src.shape[0])\n",
    "    for i in range(noiseNum):\n",
    "        randX = random.randint(0,src.shape[1]-1)\n",
    "        randY = random.randint(0,src.shape[0]-1)\n",
    "        #gauss处理\n",
    "        noiseImg[randX,randY] = noiseImg[randX,randY] + random.gauss(means, sigma)\n",
    "        if noiseImg[randX,randY] < 0:\n",
    "            noiseImg[randX,randY] = 0\n",
    "        elif noiseImg[randX,randY] >255:\n",
    "            noiseImg[randX,randY] = 255\n",
    "    return noiseImg\n",
    "img = cv2.imread('lenna.png',0)\n",
    "img1 = gaussianNoise(img,2,4,0.8)\n",
    "img3 = cv2.imread('lenna.png')\n",
    "img2 = cv2.cvtColor(img3, cv2.COLOR_BGR2GRAY)\n",
    "# cv2.imwrite('lenna_GaussianNoise.png',img1)\n",
    "cv2.imshow('source1',img)\n",
    "cv2.imshow('source2',img2)\n",
    "cv2.imshow('lenna_GaussianNoise',img1)\n",
    "cv2.waitKey(0)\n",
    "    "
   ]
  },
  {
   "cell_type": "code",
   "execution_count": null,
   "id": "433e519d",
   "metadata": {},
   "outputs": [],
   "source": []
  }
 ],
 "metadata": {
  "kernelspec": {
   "display_name": "badou",
   "language": "python",
   "name": "badou"
  },
  "language_info": {
   "codemirror_mode": {
    "name": "ipython",
    "version": 3
   },
   "file_extension": ".py",
   "mimetype": "text/x-python",
   "name": "python",
   "nbconvert_exporter": "python",
   "pygments_lexer": "ipython3",
   "version": "3.7.1"
  }
 },
 "nbformat": 4,
 "nbformat_minor": 5
}
