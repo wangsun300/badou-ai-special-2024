{
 "cells": [
  {
   "cell_type": "code",
   "execution_count": 3,
   "id": "a65619d4",
   "metadata": {},
   "outputs": [],
   "source": [
    "import numpy as np\n",
    "import cv2\n",
    "from numpy import shape\n",
    "import random"
   ]
  },
  {
   "cell_type": "code",
   "execution_count": null,
   "id": "600873c0",
   "metadata": {},
   "outputs": [
    {
     "name": "stdout",
     "output_type": "stream",
     "text": [
      "<class 'numpy.ndarray'>\n"
     ]
    }
   ],
   "source": [
    "def jiaoyan(src, percetage,b):\n",
    "#     nImg = src.copy()\n",
    "\n",
    "    nImg = src\n",
    "\n",
    "    nNum = int(percetage * nImg.shape[0] * nImg.shape[1])\n",
    "    for i in range(nNum):\n",
    "        randX = random.randint(0, nImg.shape[1]-1)\n",
    "        randY = random.randint(0, nImg.shape[0]-1)\n",
    "        if random.random()<=0.5:\n",
    "            nImg[randX,randY] = 0\n",
    "        else:\n",
    "            nImg[randX,randY] = 1\n",
    "    return nImg\n",
    "\n",
    "src = cv2.imread(\"lenna.png\",0)\n",
    "print(type(src))\n",
    "img_jy = jiaoyan(src,0.2,5)\n",
    "\n",
    "# img = cv2.imread('lenna.png')\n",
    "# img_yt = cv2.cvtColor(img,cv2.COLOR_BGR2GRAY)\n",
    "\n",
    "cv2.imshow(\"yuantu1\",src)\n",
    "# cv2.imshow(\"yuantu2\",img_yt)\n",
    "cv2.imshow(\"jiaoyan\",img_jy)\n",
    "cv2.waitKey(0)"
   ]
  },
  {
   "cell_type": "code",
   "execution_count": 7,
   "id": "f1da3454",
   "metadata": {},
   "outputs": [
    {
     "name": "stdout",
     "output_type": "stream",
     "text": [
      "[5, 2]\n"
     ]
    }
   ],
   "source": [
    "x = [1, 2]\n",
    "y = x\n",
    "y[0] = 5\n",
    "print(x)"
   ]
  },
  {
   "cell_type": "code",
   "execution_count": null,
   "id": "0fa057a5",
   "metadata": {},
   "outputs": [],
   "source": []
  }
 ],
 "metadata": {
  "kernelspec": {
   "display_name": "badou",
   "language": "python",
   "name": "badou"
  },
  "language_info": {
   "codemirror_mode": {
    "name": "ipython",
    "version": 3
   },
   "file_extension": ".py",
   "mimetype": "text/x-python",
   "name": "python",
   "nbconvert_exporter": "python",
   "pygments_lexer": "ipython3",
   "version": "3.7.1"
  }
 },
 "nbformat": 4,
 "nbformat_minor": 5
}
